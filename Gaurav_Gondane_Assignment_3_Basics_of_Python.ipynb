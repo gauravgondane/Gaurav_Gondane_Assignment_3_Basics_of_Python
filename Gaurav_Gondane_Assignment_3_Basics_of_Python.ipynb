{
 "cells": [
  {
   "cell_type": "code",
   "execution_count": null,
   "id": "7cddce9b",
   "metadata": {},
   "outputs": [],
   "source": [
    "# Write a Python program that checks whether a given number is prime or not. \n",
    "# A prime number is a natural number greater than 1 that has \n",
    "# no positive divisors other than 1 and itself.\n",
    "\n",
    "num = int(input(\"Enter a number:\"))\n",
    "flag = False\n",
    "\n",
    "for i in range(2,num):\n",
    "    if(num % i == 0):\n",
    "        flag = True\n",
    "        break\n",
    "\n",
    "if flag or num == 1:\n",
    "    print(num,\"is not a prime number\")\n",
    "else:\n",
    "    print(num,\"is a prime number\")"
   ]
  },
  {
   "cell_type": "code",
   "execution_count": null,
   "id": "2ba3cf9a",
   "metadata": {},
   "outputs": [],
   "source": [
    "# Develop a Python program that generates two random numbers \n",
    "# and asks the user to enter the product of these numbers. \n",
    "# The program should then check if the user's answer is correct and display an appropriate message.\n",
    "\n",
    "import random\n",
    "n1 = random.randrange(1,100)\n",
    "print(n1)\n",
    "n2 = random.randrange(1,100)\n",
    "print(n2)\n",
    "\n",
    "product = n1 * n2\n",
    "\n",
    "user_answer = int(input(\"Enter your answer:\"))\n",
    "\n",
    "if product == user_answer:\n",
    "    print(\"User has entered correct product for the given numbers\")\n",
    "else:\n",
    "    print(\"User answer is incorrect. Correct Product is:\",product)"
   ]
  },
  {
   "cell_type": "code",
   "execution_count": null,
   "id": "7620ff9f",
   "metadata": {},
   "outputs": [],
   "source": [
    "# Create a Python script that prints the squares of all even or odd numbers \n",
    "# within the range of 100 to 200. \n",
    "# Choose either even or odd numbers and document your choice in the code.\n",
    "\n",
    "num = 100\n",
    "user_input = input(\"Enter your choice:\")\n",
    "if user_input == 'even':\n",
    "    print(\"Number\\t\\t\\tSquare\")\n",
    "    while (num <= 200):   \n",
    "        print(num,\"\\t\\t\\t\",num ** 2)\n",
    "        num = num + 2\n",
    "elif user_input == 'odd':\n",
    "    print(\"Number\\t\\t\\tSquare\")\n",
    "    while (num <= 200):\n",
    "        if (num % 2 != 0):\n",
    "            print(num,\"\\t\\t\\t\",num ** 2)\n",
    "        num = num + 1"
   ]
  },
  {
   "cell_type": "code",
   "execution_count": null,
   "id": "6e59d036",
   "metadata": {},
   "outputs": [],
   "source": [
    "# Write a program to count the number of words in a given text.\n",
    "# example:\n",
    "# input_text = \"This is a sample text. This text will be used to demonstrate the word counter.\"\n",
    "# Expected output:\n",
    "# 'This': 2 \n",
    "# 'is': 1\n",
    "# 'a': 1\n",
    "# 'sample': 1\n",
    "# 'text.': 1\n",
    "\n",
    "data = 'My name is Mihir. I am an IT professional. I am also a table tennis player'\n",
    "\n",
    "def counter(string):\n",
    "    string = string.lower()\n",
    "    words = string.split()\n",
    "    count = dict()\n",
    "    \n",
    "    for word in words:\n",
    "        if word in count:\n",
    "            count[word] = count[word] + 1\n",
    "        else:\n",
    "            count[word] = 1\n",
    "    \n",
    "    for key,value in count.items():\n",
    "        print(key,value)\n",
    "\n",
    "counter(data)"
   ]
  },
  {
   "cell_type": "code",
   "execution_count": null,
   "id": "3ba8b786",
   "metadata": {},
   "outputs": [],
   "source": [
    "# Write a Python function called is_palindrome that takes a string as input and returns True \n",
    "# if the string is a palindrome, and False otherwise. \n",
    "# A palindrome is a word, phrase, number, or other sequence of characters that \n",
    "# reads the same forward and backward, ignoring spaces, punctuation, and capitalization.\n",
    "\n",
    "data = input(\"Enter a string:\")\n",
    "\n",
    "def is_palindrome(string):\n",
    "    if string == string[::-1]:\n",
    "        print(\"True\")\n",
    "    else:\n",
    "        print(\"False\")\n",
    "\n",
    "is_palindrome(data)"
   ]
  }
 ],
 "metadata": {
  "kernelspec": {
   "display_name": "Python 3 (ipykernel)",
   "language": "python",
   "name": "python3"
  },
  "language_info": {
   "codemirror_mode": {
    "name": "ipython",
    "version": 3
   },
   "file_extension": ".py",
   "mimetype": "text/x-python",
   "name": "python",
   "nbconvert_exporter": "python",
   "pygments_lexer": "ipython3",
   "version": "3.11.5"
  }
 },
 "nbformat": 4,
 "nbformat_minor": 5
}
